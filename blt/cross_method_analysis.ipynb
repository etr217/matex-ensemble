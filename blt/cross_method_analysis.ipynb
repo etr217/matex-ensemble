{
 "cells": [
  {
   "cell_type": "markdown",
   "metadata": {},
   "source": [
    "## Config"
   ]
  },
  {
   "cell_type": "code",
   "execution_count": 44,
   "metadata": {},
   "outputs": [
    {
     "name": "stdout",
     "output_type": "stream",
     "text": [
      "The autoreload extension is already loaded. To reload it, use:\n",
      "  %reload_ext autoreload\n"
     ]
    }
   ],
   "source": [
    "%load_ext autoreload\n",
    "%autoreload 2"
   ]
  },
  {
   "cell_type": "code",
   "execution_count": 110,
   "metadata": {},
   "outputs": [],
   "source": [
    "import pandas as pd\n",
    "import os\n",
    "import os.path as osp\n",
    "import matplotlib.pyplot as plt\n",
    "import numpy as np\n",
    "import plotly.express as px\n",
    "from scipy.stats import pearsonr, spearmanr\n",
    "from UQ import get_UQ\n",
    "from metrics import *"
   ]
  },
  {
   "cell_type": "markdown",
   "metadata": {},
   "source": [
    "# Data loading"
   ]
  },
  {
   "cell_type": "code",
   "execution_count": 46,
   "metadata": {},
   "outputs": [],
   "source": [
    "freesolv_path = '/Users/elimeyers/matexes/matex_ensemble/blt/log/molnet/freesolv/rdkit_subtraction_bilinear_hsize256_hnum4_esize64_bsize256/'\n",
    "delaney_path = '/Users/elimeyers/matexes/matex_ensemble/blt/log/molnet/delaney/rdkit_subtraction_bilinear_hsize1024_hnum3_esize64_bsize256'\n",
    "lipo_path = '/Users/elimeyers/matexes/matex_ensemble/blt/log/molnet/lipo/rdkit_subtraction_bilinear_hsize256_hnum3_esize32_bsize256'"
   ]
  },
  {
   "cell_type": "code",
   "execution_count": 113,
   "metadata": {},
   "outputs": [
    {
     "name": "stdout",
     "output_type": "stream",
     "text": [
      "removed /Users/elimeyers/matexes/matex_ensemble/blt/log/molnet/freesolv/rdkit_subtraction_bilinear_hsize256_hnum4_esize64_bsize256/05/group_df\n",
      "removed /Users/elimeyers/matexes/matex_ensemble/blt/log/molnet/freesolv/rdkit_subtraction_bilinear_hsize256_hnum4_esize64_bsize256/05/all_eval.pkl\n",
      "removed /Users/elimeyers/matexes/matex_ensemble/blt/log/molnet/freesolv/rdkit_subtraction_bilinear_hsize256_hnum4_esize64_bsize256/05/group_df.pkl\n",
      "removed existing group df!\n",
      "removed existing eval df!\n",
      "removed /Users/elimeyers/matexes/matex_ensemble/blt/log/molnet/freesolv/rdkit_subtraction_bilinear_hsize256_hnum4_esize64_bsize256/250/group_df\n",
      "removed /Users/elimeyers/matexes/matex_ensemble/blt/log/molnet/freesolv/rdkit_subtraction_bilinear_hsize256_hnum4_esize64_bsize256/250/all_eval.pkl\n",
      "removed /Users/elimeyers/matexes/matex_ensemble/blt/log/molnet/freesolv/rdkit_subtraction_bilinear_hsize256_hnum4_esize64_bsize256/250/group_df.pkl\n",
      "removed existing group df!\n",
      "removed existing eval df!\n",
      "removed /Users/elimeyers/matexes/matex_ensemble/blt/log/molnet/freesolv/rdkit_subtraction_bilinear_hsize256_hnum4_esize64_bsize256/20/group_df\n",
      "removed /Users/elimeyers/matexes/matex_ensemble/blt/log/molnet/freesolv/rdkit_subtraction_bilinear_hsize256_hnum4_esize64_bsize256/20/all_eval.pkl\n",
      "removed /Users/elimeyers/matexes/matex_ensemble/blt/log/molnet/freesolv/rdkit_subtraction_bilinear_hsize256_hnum4_esize64_bsize256/20/group_df.pkl\n",
      "removed existing group df!\n",
      "removed existing eval df!\n",
      "removed /Users/elimeyers/matexes/matex_ensemble/blt/log/molnet/freesolv/rdkit_subtraction_bilinear_hsize256_hnum4_esize64_bsize256/10/group_df\n",
      "removed /Users/elimeyers/matexes/matex_ensemble/blt/log/molnet/freesolv/rdkit_subtraction_bilinear_hsize256_hnum4_esize64_bsize256/10/all_eval.pkl\n",
      "removed /Users/elimeyers/matexes/matex_ensemble/blt/log/molnet/freesolv/rdkit_subtraction_bilinear_hsize256_hnum4_esize64_bsize256/10/group_df.pkl\n",
      "removed existing group df!\n",
      "removed existing eval df!\n",
      "removed /Users/elimeyers/matexes/matex_ensemble/blt/log/molnet/freesolv/rdkit_subtraction_bilinear_hsize256_hnum4_esize64_bsize256/340/group_df\n",
      "removed /Users/elimeyers/matexes/matex_ensemble/blt/log/molnet/freesolv/rdkit_subtraction_bilinear_hsize256_hnum4_esize64_bsize256/340/all_eval.pkl\n",
      "removed /Users/elimeyers/matexes/matex_ensemble/blt/log/molnet/freesolv/rdkit_subtraction_bilinear_hsize256_hnum4_esize64_bsize256/340/group_df.pkl\n",
      "removed existing group df!\n",
      "removed existing eval df!\n",
      "removed /Users/elimeyers/matexes/matex_ensemble/blt/log/molnet/freesolv/rdkit_subtraction_bilinear_hsize256_hnum4_esize64_bsize256/r1/group_df\n",
      "removed /Users/elimeyers/matexes/matex_ensemble/blt/log/molnet/freesolv/rdkit_subtraction_bilinear_hsize256_hnum4_esize64_bsize256/r1/all_eval.pkl\n",
      "removed /Users/elimeyers/matexes/matex_ensemble/blt/log/molnet/freesolv/rdkit_subtraction_bilinear_hsize256_hnum4_esize64_bsize256/r1/group_df.pkl\n",
      "removed existing group df!\n",
      "removed existing eval df!\n"
     ]
    }
   ],
   "source": [
    "for end in os.listdir(freesolv_path):\n",
    "    if end != 'old':\n",
    "        folder = os.path.join(freesolv_path, end)\n",
    "        get_UQ(folder)"
   ]
  },
  {
   "cell_type": "code",
   "execution_count": 115,
   "metadata": {},
   "outputs": [],
   "source": [
    "base_path = freesolv_path\n",
    "exp_folders = [os.path.join(base_path, end) for end in os.listdir(base_path)]\n",
    "group_name = 'group_df.pkl'\n",
    "all_name = 'all_eval.pkl'\n",
    "data_name = 'data.pkl'\n",
    "dfs = {\n",
    "    folder[folder.rindex('/')+1:] : pd.read_pickle(osp.join(folder, group_name) )\n",
    "    for folder in exp_folders if osp.exists(osp.join(folder, group_name))\n",
    "}\n",
    "all_dfs = {\n",
    "    folder[folder.rindex('/')+1:] : pd.read_pickle(osp.join(folder, all_name) )\n",
    "    for folder in exp_folders if osp.exists(osp.join(folder, all_name))\n",
    "}\n",
    "data_dfs = {\n",
    "    folder[folder.rindex('/')+1:] : pd.read_pickle(osp.join(folder, data_name) )\n",
    "    for folder in exp_folders if osp.exists(osp.join(folder, data_name))\n",
    "}"
   ]
  },
  {
   "cell_type": "markdown",
   "metadata": {},
   "source": [
    "# Metric calculation"
   ]
  },
  {
   "cell_type": "code",
   "execution_count": 127,
   "metadata": {},
   "outputs": [],
   "source": [
    "metrics = [\n",
    "    spearman,\n",
    "    MAE, \n",
    "    MSE, \n",
    "    r2,\n",
    "    r,\n",
    "    nll,\n",
    "]\n",
    "metric_df = pd.DataFrame({f() : [] for f in metrics})\n",
    "metric_df['split'] = []"
   ]
  },
  {
   "cell_type": "code",
   "execution_count": 128,
   "metadata": {},
   "outputs": [
    {
     "data": {
      "text/html": [
       "<div>\n",
       "<style scoped>\n",
       "    .dataframe tbody tr th:only-of-type {\n",
       "        vertical-align: middle;\n",
       "    }\n",
       "\n",
       "    .dataframe tbody tr th {\n",
       "        vertical-align: top;\n",
       "    }\n",
       "\n",
       "    .dataframe thead th {\n",
       "        text-align: right;\n",
       "    }\n",
       "</style>\n",
       "<table border=\"1\" class=\"dataframe\">\n",
       "  <thead>\n",
       "    <tr style=\"text-align: right;\">\n",
       "      <th></th>\n",
       "      <th>spearman</th>\n",
       "      <th>MAE</th>\n",
       "      <th>MSE</th>\n",
       "      <th>R2</th>\n",
       "      <th>r</th>\n",
       "      <th>NLL</th>\n",
       "      <th>split</th>\n",
       "      <th>r2</th>\n",
       "    </tr>\n",
       "  </thead>\n",
       "  <tbody>\n",
       "    <tr>\n",
       "      <th>05</th>\n",
       "      <td>0.267026</td>\n",
       "      <td>0.921326</td>\n",
       "      <td>33.948512</td>\n",
       "      <td>-34.720561</td>\n",
       "      <td>0.023287</td>\n",
       "      <td>49.310382</td>\n",
       "      <td>0.051402</td>\n",
       "      <td>0.000542</td>\n",
       "    </tr>\n",
       "    <tr>\n",
       "      <th>250</th>\n",
       "      <td>0.518145</td>\n",
       "      <td>0.228285</td>\n",
       "      <td>0.240105</td>\n",
       "      <td>0.780107</td>\n",
       "      <td>0.910198</td>\n",
       "      <td>5.082878</td>\n",
       "      <td>0.500000</td>\n",
       "      <td>0.828460</td>\n",
       "    </tr>\n",
       "    <tr>\n",
       "      <th>20</th>\n",
       "      <td>0.591673</td>\n",
       "      <td>0.473577</td>\n",
       "      <td>5.202694</td>\n",
       "      <td>-3.582584</td>\n",
       "      <td>0.313861</td>\n",
       "      <td>6.508885</td>\n",
       "      <td>0.200935</td>\n",
       "      <td>0.098509</td>\n",
       "    </tr>\n",
       "    <tr>\n",
       "      <th>10</th>\n",
       "      <td>0.342753</td>\n",
       "      <td>0.385742</td>\n",
       "      <td>0.806339</td>\n",
       "      <td>0.172667</td>\n",
       "      <td>0.583547</td>\n",
       "      <td>10.382574</td>\n",
       "      <td>0.101246</td>\n",
       "      <td>0.340527</td>\n",
       "    </tr>\n",
       "    <tr>\n",
       "      <th>340</th>\n",
       "      <td>0.619736</td>\n",
       "      <td>0.230254</td>\n",
       "      <td>0.223230</td>\n",
       "      <td>0.797075</td>\n",
       "      <td>0.929810</td>\n",
       "      <td>3.514485</td>\n",
       "      <td>0.400312</td>\n",
       "      <td>0.864546</td>\n",
       "    </tr>\n",
       "    <tr>\n",
       "      <th>r1</th>\n",
       "      <td>0.576350</td>\n",
       "      <td>0.180061</td>\n",
       "      <td>0.150130</td>\n",
       "      <td>0.858163</td>\n",
       "      <td>0.943112</td>\n",
       "      <td>1.429608</td>\n",
       "      <td>0.500000</td>\n",
       "      <td>0.889460</td>\n",
       "    </tr>\n",
       "  </tbody>\n",
       "</table>\n",
       "</div>"
      ],
      "text/plain": [
       "     spearman       MAE        MSE         R2         r        NLL     split  \\\n",
       "05   0.267026  0.921326  33.948512 -34.720561  0.023287  49.310382  0.051402   \n",
       "250  0.518145  0.228285   0.240105   0.780107  0.910198   5.082878  0.500000   \n",
       "20   0.591673  0.473577   5.202694  -3.582584  0.313861   6.508885  0.200935   \n",
       "10   0.342753  0.385742   0.806339   0.172667  0.583547  10.382574  0.101246   \n",
       "340  0.619736  0.230254   0.223230   0.797075  0.929810   3.514485  0.400312   \n",
       "r1   0.576350  0.180061   0.150130   0.858163  0.943112   1.429608  0.500000   \n",
       "\n",
       "           r2  \n",
       "05   0.000542  \n",
       "250  0.828460  \n",
       "20   0.098509  \n",
       "10   0.340527  \n",
       "340  0.864546  \n",
       "r1   0.889460  "
      ]
     },
     "execution_count": 128,
     "metadata": {},
     "output_type": "execute_result"
    }
   ],
   "source": [
    "for name, df in dfs.items():\n",
    "    next_df = pd.DataFrame(\n",
    "        {f() : [f(df)] for f in metrics}, \n",
    "        index = [name],\n",
    "    )\n",
    "    next_df['split'] = len(data_dfs[name]['train_formula']) / (\n",
    "        len(data_dfs[name]['train_formula']) + len(data_dfs[name]['eval_formula']) + len(data_dfs[name]['ood_formula'])\n",
    "    )\n",
    "    metric_df = pd.concat([metric_df, next_df])\n",
    "metric_df['r2'] = metric_df['r']**2\n",
    "metric_df"
   ]
  },
  {
   "cell_type": "code",
   "execution_count": null,
   "metadata": {},
   "outputs": [],
   "source": []
  },
  {
   "cell_type": "code",
   "execution_count": 108,
   "metadata": {},
   "outputs": [
    {
     "name": "stdout",
     "output_type": "stream",
     "text": [
      "spearman\n",
      "MAE\n",
      "MSE\n",
      "R2\n",
      "r\n",
      "datapoints\n",
      "r2\n"
     ]
    }
   ],
   "source": [
    "for row in metric_df:\n",
    "    print(row)"
   ]
  },
  {
   "cell_type": "code",
   "execution_count": null,
   "metadata": {},
   "outputs": [],
   "source": [
    "metric_df.plot.scatter(x = 'datapoints', y= 'r2')\n"
   ]
  },
  {
   "cell_type": "code",
   "execution_count": 122,
   "metadata": {},
   "outputs": [
    {
     "data": {
      "text/plain": [
       "<Axes: xlabel='datapoints', ylabel='r2'>"
      ]
     },
     "execution_count": 122,
     "metadata": {},
     "output_type": "execute_result"
    },
    {
     "data": {
      "image/png": "[encoded data removed]",
      "text/plain": [
       "<Figure size 640x480 with 1 Axes>"
      ]
     },
     "metadata": {},
     "output_type": "display_data"
    }
   ],
   "source": [
    "metric_df.plot.scatter(x = 'datapoints', y= 'r2')\n"
   ]
  },
  {
   "cell_type": "code",
   "execution_count": 107,
   "metadata": {},
   "outputs": [
    {
     "data": {
      "text/plain": [
       "<Axes: xlabel='spearman', ylabel='r2'>"
      ]
     },
     "execution_count": 107,
     "metadata": {},
     "output_type": "execute_result"
    },
    {
     "data": {
      "image/png": "[encoded data removed]",
      "text/plain": [
       "<Figure size 640x480 with 1 Axes>"
      ]
     },
     "metadata": {},
     "output_type": "display_data"
    }
   ],
   "source": [
    "metric_df.plot.scatter(x = 'spearman', y= 'r2')\n",
    "for row in metric_df:\n",
    "    "
   ]
  },
  {
   "cell_type": "markdown",
   "metadata": {},
   "source": [
    "# Individual Analysis"
   ]
  },
  {
   "cell_type": "code",
   "execution_count": 84,
   "metadata": {},
   "outputs": [],
   "source": [
    "subfolder = '05'\n",
    "df = dfs[subfolder]\n",
    "all_df = all_dfs[subfolder]"
   ]
  },
  {
   "cell_type": "code",
   "execution_count": 85,
   "metadata": {},
   "outputs": [
    {
     "data": {
      "text/plain": [
       "<matplotlib.collections.PathCollection at 0x12c8d4c50>"
      ]
     },
     "execution_count": 85,
     "metadata": {},
     "output_type": "execute_result"
    },
    {
     "data": {
      "image/png": "[encoded data removed]",
      "text/plain": [
       "<Figure size 640x480 with 1 Axes>"
      ]
     },
     "metadata": {},
     "output_type": "display_data"
    }
   ],
   "source": [
    "x = df['gt']\n",
    "y = df['preds']\n",
    "error = df['pred_std']\n",
    "plt.errorbar(x, y, yerr = 2*error, fmt = 'none')\n",
    "plt.scatter(all_df['gt'], all_df['preds'])\n",
    "# plt.ylim((-2, 5))\n",
    "# plt.plot([-2,2], [-2, 2])"
   ]
  },
  {
   "cell_type": "code",
   "execution_count": 74,
   "metadata": {},
   "outputs": [
    {
     "data": {
      "text/html": [
       "<div>\n",
       "<style scoped>\n",
       "    .dataframe tbody tr th:only-of-type {\n",
       "        vertical-align: middle;\n",
       "    }\n",
       "\n",
       "    .dataframe tbody tr th {\n",
       "        vertical-align: top;\n",
       "    }\n",
       "\n",
       "    .dataframe thead th {\n",
       "        text-align: right;\n",
       "    }\n",
       "</style>\n",
       "<table border=\"1\" class=\"dataframe\">\n",
       "  <thead>\n",
       "    <tr style=\"text-align: right;\">\n",
       "      <th></th>\n",
       "      <th>preds</th>\n",
       "      <th>gt</th>\n",
       "      <th>anchor_idxs</th>\n",
       "      <th>train_analogy_pair_idx</th>\n",
       "      <th>error</th>\n",
       "      <th>abs_error</th>\n",
       "      <th>sq_error</th>\n",
       "      <th>pred_std</th>\n",
       "      <th>total_abs_error</th>\n",
       "    </tr>\n",
       "    <tr>\n",
       "      <th>formula</th>\n",
       "      <th></th>\n",
       "      <th></th>\n",
       "      <th></th>\n",
       "      <th></th>\n",
       "      <th></th>\n",
       "      <th></th>\n",
       "      <th></th>\n",
       "      <th></th>\n",
       "      <th></th>\n",
       "    </tr>\n",
       "  </thead>\n",
       "  <tbody>\n",
       "    <tr>\n",
       "      <th>CCC(=O)OC</th>\n",
       "      <td>0.226106</td>\n",
       "      <td>0.231056</td>\n",
       "      <td>21.3</td>\n",
       "      <td>[21.3, 9.0]</td>\n",
       "      <td>-0.004950</td>\n",
       "      <td>0.006038</td>\n",
       "      <td>0.000072</td>\n",
       "      <td>0.000052</td>\n",
       "      <td>0.004950</td>\n",
       "    </tr>\n",
       "    <tr>\n",
       "      <th>CCCCCCC(=O)C</th>\n",
       "      <td>0.343472</td>\n",
       "      <td>0.243650</td>\n",
       "      <td>9.0</td>\n",
       "      <td>[7.0, 29.0]</td>\n",
       "      <td>0.099822</td>\n",
       "      <td>0.099822</td>\n",
       "      <td>0.010021</td>\n",
       "      <td>0.000063</td>\n",
       "      <td>0.099822</td>\n",
       "    </tr>\n",
       "    <tr>\n",
       "      <th>CCCCCCCCC=O</th>\n",
       "      <td>0.346553</td>\n",
       "      <td>0.447681</td>\n",
       "      <td>15.2</td>\n",
       "      <td>[15.2, 29.0]</td>\n",
       "      <td>-0.101127</td>\n",
       "      <td>0.101127</td>\n",
       "      <td>0.010391</td>\n",
       "      <td>0.000182</td>\n",
       "      <td>0.101127</td>\n",
       "    </tr>\n",
       "    <tr>\n",
       "      <th>CCSC</th>\n",
       "      <td>0.609346</td>\n",
       "      <td>0.591258</td>\n",
       "      <td>11.0</td>\n",
       "      <td>[29.0, 12.0]</td>\n",
       "      <td>0.018088</td>\n",
       "      <td>0.020675</td>\n",
       "      <td>0.000533</td>\n",
       "      <td>0.000228</td>\n",
       "      <td>0.018088</td>\n",
       "    </tr>\n",
       "    <tr>\n",
       "      <th>Cc1ccc(cc1)C</th>\n",
       "      <td>0.776915</td>\n",
       "      <td>0.767580</td>\n",
       "      <td>3.4</td>\n",
       "      <td>[3.4, 16.0]</td>\n",
       "      <td>0.009334</td>\n",
       "      <td>0.013762</td>\n",
       "      <td>0.000313</td>\n",
       "      <td>0.000251</td>\n",
       "      <td>0.009334</td>\n",
       "    </tr>\n",
       "    <tr>\n",
       "      <th>...</th>\n",
       "      <td>...</td>\n",
       "      <td>...</td>\n",
       "      <td>...</td>\n",
       "      <td>...</td>\n",
       "      <td>...</td>\n",
       "      <td>...</td>\n",
       "      <td>...</td>\n",
       "      <td>...</td>\n",
       "      <td>...</td>\n",
       "    </tr>\n",
       "    <tr>\n",
       "      <th>c1cc(cc(c1)O)[N+](=O)[O-]</th>\n",
       "      <td>-1.113955</td>\n",
       "      <td>-1.454085</td>\n",
       "      <td>15.8</td>\n",
       "      <td>[16.5, 19.7]</td>\n",
       "      <td>0.340130</td>\n",
       "      <td>0.475047</td>\n",
       "      <td>0.582457</td>\n",
       "      <td>0.518632</td>\n",
       "      <td>0.340130</td>\n",
       "    </tr>\n",
       "    <tr>\n",
       "      <th>CN(C)C</th>\n",
       "      <td>13.771841</td>\n",
       "      <td>0.163046</td>\n",
       "      <td>0.0</td>\n",
       "      <td>[22.0, 1.2]</td>\n",
       "      <td>13.608796</td>\n",
       "      <td>13.608796</td>\n",
       "      <td>186.312296</td>\n",
       "      <td>1.236619</td>\n",
       "      <td>13.608796</td>\n",
       "    </tr>\n",
       "    <tr>\n",
       "      <th>CC(C)O</th>\n",
       "      <td>14.023399</td>\n",
       "      <td>-0.224864</td>\n",
       "      <td>0.0</td>\n",
       "      <td>[22.0, 1.2]</td>\n",
       "      <td>14.248264</td>\n",
       "      <td>14.248264</td>\n",
       "      <td>204.178804</td>\n",
       "      <td>1.295310</td>\n",
       "      <td>14.248264</td>\n",
       "    </tr>\n",
       "    <tr>\n",
       "      <th>CS(=O)(=O)C</th>\n",
       "      <td>74.357903</td>\n",
       "      <td>-1.569954</td>\n",
       "      <td>0.0</td>\n",
       "      <td>[22.0, 1.2]</td>\n",
       "      <td>75.927856</td>\n",
       "      <td>75.927856</td>\n",
       "      <td>5799.226637</td>\n",
       "      <td>37.985863</td>\n",
       "      <td>75.927856</td>\n",
       "    </tr>\n",
       "    <tr>\n",
       "      <th>CC(C)(C)O</th>\n",
       "      <td>118.491089</td>\n",
       "      <td>-0.156854</td>\n",
       "      <td>0.0</td>\n",
       "      <td>[22.0, 1.2]</td>\n",
       "      <td>118.647947</td>\n",
       "      <td>118.647947</td>\n",
       "      <td>14164.127883</td>\n",
       "      <td>96.436256</td>\n",
       "      <td>118.647947</td>\n",
       "    </tr>\n",
       "  </tbody>\n",
       "</table>\n",
       "<p>609 rows × 9 columns</p>\n",
       "</div>"
      ],
      "text/plain": [
       "                                preds        gt  anchor_idxs  \\\n",
       "formula                                                        \n",
       "CCC(=O)OC                    0.226106  0.231056         21.3   \n",
       "CCCCCCC(=O)C                 0.343472  0.243650          9.0   \n",
       "CCCCCCCCC=O                  0.346553  0.447681         15.2   \n",
       "CCSC                         0.609346  0.591258         11.0   \n",
       "Cc1ccc(cc1)C                 0.776915  0.767580          3.4   \n",
       "...                               ...       ...          ...   \n",
       "c1cc(cc(c1)O)[N+](=O)[O-]   -1.113955 -1.454085         15.8   \n",
       "CN(C)C                      13.771841  0.163046          0.0   \n",
       "CC(C)O                      14.023399 -0.224864          0.0   \n",
       "CS(=O)(=O)C                 74.357903 -1.569954          0.0   \n",
       "CC(C)(C)O                  118.491089 -0.156854          0.0   \n",
       "\n",
       "                          train_analogy_pair_idx       error   abs_error  \\\n",
       "formula                                                                    \n",
       "CCC(=O)OC                            [21.3, 9.0]   -0.004950    0.006038   \n",
       "CCCCCCC(=O)C                         [7.0, 29.0]    0.099822    0.099822   \n",
       "CCCCCCCCC=O                         [15.2, 29.0]   -0.101127    0.101127   \n",
       "CCSC                                [29.0, 12.0]    0.018088    0.020675   \n",
       "Cc1ccc(cc1)C                         [3.4, 16.0]    0.009334    0.013762   \n",
       "...                                          ...         ...         ...   \n",
       "c1cc(cc(c1)O)[N+](=O)[O-]           [16.5, 19.7]    0.340130    0.475047   \n",
       "CN(C)C                               [22.0, 1.2]   13.608796   13.608796   \n",
       "CC(C)O                               [22.0, 1.2]   14.248264   14.248264   \n",
       "CS(=O)(=O)C                          [22.0, 1.2]   75.927856   75.927856   \n",
       "CC(C)(C)O                            [22.0, 1.2]  118.647947  118.647947   \n",
       "\n",
       "                               sq_error   pred_std  total_abs_error  \n",
       "formula                                                              \n",
       "CCC(=O)OC                      0.000072   0.000052         0.004950  \n",
       "CCCCCCC(=O)C                   0.010021   0.000063         0.099822  \n",
       "CCCCCCCCC=O                    0.010391   0.000182         0.101127  \n",
       "CCSC                           0.000533   0.000228         0.018088  \n",
       "Cc1ccc(cc1)C                   0.000313   0.000251         0.009334  \n",
       "...                                 ...        ...              ...  \n",
       "c1cc(cc(c1)O)[N+](=O)[O-]      0.582457   0.518632         0.340130  \n",
       "CN(C)C                       186.312296   1.236619        13.608796  \n",
       "CC(C)O                       204.178804   1.295310        14.248264  \n",
       "CS(=O)(=O)C                 5799.226637  37.985863        75.927856  \n",
       "CC(C)(C)O                  14164.127883  96.436256       118.647947  \n",
       "\n",
       "[609 rows x 9 columns]"
      ]
     },
     "execution_count": 74,
     "metadata": {},
     "output_type": "execute_result"
    }
   ],
   "source": [
    "df.sort_values('pred_std')"
   ]
  },
  {
   "cell_type": "code",
   "execution_count": 87,
   "metadata": {},
   "outputs": [
    {
     "data": {
      "text/plain": [
       "/Users/elimeyers/matexes/matex_ensemble/blt/log/molnet/freesolv/rdkit_subtraction_bilinear_hsize256_hnum4_esize64_bsize256/05/25-07-25_17-38-56  223    [22, 4]\n",
       "/Users/elimeyers/matexes/matex_ensemble/blt/log/molnet/freesolv/rdkit_subtraction_bilinear_hsize256_hnum4_esize64_bsize256/05/25-07-25_17-34-25  223    [22, 4]\n",
       "/Users/elimeyers/matexes/matex_ensemble/blt/log/molnet/freesolv/rdkit_subtraction_bilinear_hsize256_hnum4_esize64_bsize256/05/25-07-25_17-37-02  223    [22, 0]\n",
       "/Users/elimeyers/matexes/matex_ensemble/blt/log/molnet/freesolv/rdkit_subtraction_bilinear_hsize256_hnum4_esize64_bsize256/05/25-07-25_17-29-45  223    [22, 0]\n",
       "/Users/elimeyers/matexes/matex_ensemble/blt/log/molnet/freesolv/rdkit_subtraction_bilinear_hsize256_hnum4_esize64_bsize256/05/25-07-25_17-35-23  223    [22, 0]\n",
       "/Users/elimeyers/matexes/matex_ensemble/blt/log/molnet/freesolv/rdkit_subtraction_bilinear_hsize256_hnum4_esize64_bsize256/05/25-07-25_17-26-14  223    [22, 0]\n",
       "/Users/elimeyers/matexes/matex_ensemble/blt/log/molnet/freesolv/rdkit_subtraction_bilinear_hsize256_hnum4_esize64_bsize256/05/25-07-25_17-40-33  223    [22, 0]\n",
       "/Users/elimeyers/matexes/matex_ensemble/blt/log/molnet/freesolv/rdkit_subtraction_bilinear_hsize256_hnum4_esize64_bsize256/05/25-07-25_17-33-08  223    [22, 4]\n",
       "/Users/elimeyers/matexes/matex_ensemble/blt/log/molnet/freesolv/rdkit_subtraction_bilinear_hsize256_hnum4_esize64_bsize256/05/25-07-25_17-27-54  223    [22, 0]\n",
       "/Users/elimeyers/matexes/matex_ensemble/blt/log/molnet/freesolv/rdkit_subtraction_bilinear_hsize256_hnum4_esize64_bsize256/05/25-07-25_17-31-10  223    [22, 0]\n",
       "Name: train_analogy_pair_idx, dtype: object"
      ]
     },
     "execution_count": 87,
     "metadata": {},
     "output_type": "execute_result"
    }
   ],
   "source": [
    "all_df.query('formula == \"CC(C)(C)O\"')['train_analogy_pair_idx']"
   ]
  },
  {
   "cell_type": "code",
   "execution_count": null,
   "metadata": {},
   "outputs": [],
   "source": []
  },
  {
   "cell_type": "code",
   "execution_count": null,
   "metadata": {},
   "outputs": [],
   "source": []
  },
  {
   "cell_type": "code",
   "execution_count": null,
   "metadata": {},
   "outputs": [],
   "source": []
  }
 ],
 "metadata": {
  "kernelspec": {
   "display_name": "Python 3",
   "language": "python",
   "name": "python3"
  },
  "language_info": {
   "codemirror_mode": {
    "name": "ipython",
    "version": 3
   },
   "file_extension": ".py",
   "mimetype": "text/x-python",
   "name": "python",
   "nbconvert_exporter": "python",
   "pygments_lexer": "ipython3",
   "version": "3.12.5"
  }
 },
 "nbformat": 4,
 "nbformat_minor": 2
}
