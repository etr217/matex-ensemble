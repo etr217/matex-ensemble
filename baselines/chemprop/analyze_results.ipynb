{
 "cells": [
  {
   "cell_type": "code",
   "execution_count": 3,
   "metadata": {},
   "outputs": [],
   "source": [
    "import numpy as np\n",
    "import scipy\n",
    "def kl_div(gt, preds):\n",
    "    bins = np.linspace(min(gt.min(), preds.min()), max(gt.max(), preds.max()), 100)\n",
    "    hist_gt, _ = np.histogram(gt.squeeze(), bins=bins, density=True)\n",
    "    hist_preds, _ = np.histogram(preds.squeeze(), bins=bins, density=True)\n",
    "    hist_gt_normalized = hist_gt / np.sum(hist_gt)\n",
    "    hist_preds_normalized = hist_preds / np.sum(hist_preds)\n",
    "    EPS = 1e-10\n",
    "    kl_div = np.sum(scipy.special.kl_div(hist_gt_normalized+EPS, hist_preds_normalized+EPS)) #lower better [0,inf]\n",
    "    return round(kl_div,2)"
   ]
  },
  {
   "cell_type": "code",
   "execution_count": 5,
   "metadata": {},
   "outputs": [
    {
     "name": "stdout",
     "output_type": "stream",
     "text": [
      "delaney\n",
      "in dist 7.14\n",
      "ood 11.44\n",
      "freesolv\n",
      "in dist 12.05\n",
      "ood 19.26\n",
      "lipo\n",
      "in dist 3.17\n",
      "ood 13.34\n",
      "bace\n",
      "in dist 8.23\n",
      "ood 20.58\n"
     ]
    }
   ],
   "source": [
    "import pandas\n",
    "\n",
    "for prop in ['delaney', 'freesolv', 'lipo', 'bace']:\n",
    "    print(prop)\n",
    "    df = pandas.read_csv(f'/data/pulkitag/misc/avivn/matex/blt/data/molnet/{prop}/eval.csv')\n",
    "    in_dist_gt = df.target\n",
    "    df = pandas.read_csv(f'/data/pulkitag/misc/avivn/matex/baselines/chemprop/test_checkpoints_{prop}/eval_id_preds_{prop}.csv')\n",
    "    in_dist_preds = df.target\n",
    "    print('in dist', kl_div(in_dist_gt, in_dist_preds))\n",
    "    #\n",
    "    df = pandas.read_csv(f'/data/pulkitag/misc/avivn/matex/blt/data/molnet/{prop}/ood.csv')\n",
    "    ood_gt = df.target\n",
    "    df = pandas.read_csv(f'/data/pulkitag/misc/avivn/matex/baselines/chemprop/test_checkpoints_{prop}/eval_ood_preds_{prop}.csv')\n",
    "    ood_preds = df.target    \n",
    "    print('ood', kl_div(ood_gt, ood_preds))"
   ]
  }
 ],
 "metadata": {
  "kernelspec": {
   "display_name": "matex",
   "language": "python",
   "name": "matex"
  },
  "language_info": {
   "codemirror_mode": {
    "name": "ipython",
    "version": 3
   },
   "file_extension": ".py",
   "mimetype": "text/x-python",
   "name": "python",
   "nbconvert_exporter": "python",
   "pygments_lexer": "ipython3",
   "version": "3.9.16"
  },
  "orig_nbformat": 4
 },
 "nbformat": 4,
 "nbformat_minor": 2
}
